{
 "cells": [
  {
   "cell_type": "markdown",
   "metadata": {},
   "source": [
    "# Gravity Tech Test - Feature Engineering\n",
    "***\n",
    "**Author:** Mauricio Jacome  \n",
    "**Date:** 31-Aug-2022  \n",
    "**Objective**: Build Credit Scoring model from limited dataset"
   ]
  },
  {
   "cell_type": "code",
   "execution_count": 14,
   "metadata": {},
   "outputs": [],
   "source": [
    "from sklearn.datasets import load_breast_cancer,fetch_openml\n",
    "from sklearn.model_selection import train_test_split\n",
    "import pandas as pd\n",
    "import numpy as np\n",
    "from optbinning import OptimalBinning, BinningProcess\n"
   ]
  },
  {
   "cell_type": "code",
   "execution_count": 11,
   "metadata": {},
   "outputs": [
    {
     "name": "stdout",
     "output_type": "stream",
     "text": [
      "Dimension of the dataset is: (9578, 14)\n"
     ]
    }
   ],
   "source": [
    "df =pd.read_csv('loan_data.csv', header= 0, names=['credit_policy','purpose',\n",
    "'int_rate',\n",
    "'installment',\n",
    "'log_annual_inc',\n",
    "'dti',\n",
    "'fico',\n",
    "'days_with_cr_line',\n",
    "'revol_bal',\n",
    "'revol_util',\n",
    "'inq_last_6mths',\n",
    "'delinq_2yrs',\n",
    "'pub_rec',\n",
    "'not_fully_paid'])\n",
    "\n",
    "print(\"Dimension of the dataset is:\", df.shape)"
   ]
  },
  {
   "cell_type": "markdown",
   "metadata": {},
   "source": [
    "I'll instantiate some classes for the binning of categorical and torublesome numerical features. "
   ]
  },
  {
   "cell_type": "code",
   "execution_count": 32,
   "metadata": {},
   "outputs": [],
   "source": [
    "variable_names =['purpose', 'inq_last_6mths', 'revol_bal']\n",
    "categorical_variables =['purpose', 'credit_policy']\n",
    "\n",
    "variable='purpose'\n",
    "optb = OptimalBinning(name=variable, dtype=\"numerical\", solver=\"cp\")"
   ]
  },
  {
   "cell_type": "code",
   "execution_count": 24,
   "metadata": {},
   "outputs": [
    {
     "data": {
      "text/plain": [
       "OptimalBinning(cat_cutoff=None, class_weight=None, divergence='iv',\n",
       "               dtype='categorical', gamma=0, max_bin_n_event=None,\n",
       "               max_bin_n_nonevent=None, max_bin_size=None, max_n_bins=None,\n",
       "               max_n_prebins=20, max_pvalue=None,\n",
       "               max_pvalue_policy='consecutive', min_bin_n_event=None,\n",
       "               min_bin_n_nonevent=None, min_bin_size=None,\n",
       "               min_event_rate_diff=0, min_n_bins=None, min_prebin_size=0.05,\n",
       "               mip_solver='bop', monotonic_trend='auto', name='purpose',\n",
       "               outlier_detector=None, outlier_params=None,\n",
       "               prebinning_method='cart', solver='cp', special_codes=None,\n",
       "               split_digits=None, time_limit=100, user_splits=None,\n",
       "               user_splits_fixed=None, ...)"
      ]
     },
     "execution_count": 24,
     "metadata": {},
     "output_type": "execute_result"
    }
   ],
   "source": [
    "x = df['purpose'].values\n",
    "y = df['not_fully_paid'].values\n",
    "optb.fit(x, y)"
   ]
  },
  {
   "cell_type": "code",
   "execution_count": 26,
   "metadata": {},
   "outputs": [
    {
     "data": {
      "text/plain": [
       "[array(['major_purchase', 'credit_card'], dtype=object),\n",
       " array(['debt_consolidation'], dtype=object),\n",
       " array(['all_other'], dtype=object),\n",
       " array(['home_improvement', 'educational'], dtype=object),\n",
       " array(['small_business'], dtype=object)]"
      ]
     },
     "execution_count": 26,
     "metadata": {},
     "output_type": "execute_result"
    }
   ],
   "source": [
    "optb.splits"
   ]
  },
  {
   "cell_type": "code",
   "execution_count": 48,
   "metadata": {},
   "outputs": [
    {
     "data": {
      "text/plain": [
       "OptimalBinning(cat_cutoff=None, class_weight=None, divergence='iv',\n",
       "               dtype='numerical', gamma=0, max_bin_n_event=None,\n",
       "               max_bin_n_nonevent=None, max_bin_size=None, max_n_bins=None,\n",
       "               max_n_prebins=20, max_pvalue=None,\n",
       "               max_pvalue_policy='consecutive', min_bin_n_event=None,\n",
       "               min_bin_n_nonevent=None, min_bin_size=0.1, min_event_rate_diff=0,\n",
       "               min_n_bins=None, min_prebin_size=0.05, mip_solver='bop',\n",
       "               monotonic_trend='auto', name='purpose', outlier_detector=None,\n",
       "               outlier_params=None, prebinning_method='cart', solver='cp',\n",
       "               special_codes=None, split_digits=None, time_limit=100,\n",
       "               user_splits=None, user_splits_fixed=None, ...)"
      ]
     },
     "execution_count": 48,
     "metadata": {},
     "output_type": "execute_result"
    }
   ],
   "source": [
    "x = df['inq_last_6mths'].values\n",
    "y = df['not_fully_paid'].values\n",
    "optb.fit(x, y)"
   ]
  },
  {
   "cell_type": "code",
   "execution_count": 49,
   "metadata": {},
   "outputs": [
    {
     "data": {
      "text/plain": [
       "array([0.5, 2.5])"
      ]
     },
     "execution_count": 49,
     "metadata": {},
     "output_type": "execute_result"
    }
   ],
   "source": [
    "optb.splits"
   ]
  },
  {
   "cell_type": "code",
   "execution_count": 50,
   "metadata": {},
   "outputs": [
    {
     "data": {
      "text/html": [
       "<div>\n",
       "<style scoped>\n",
       "    .dataframe tbody tr th:only-of-type {\n",
       "        vertical-align: middle;\n",
       "    }\n",
       "\n",
       "    .dataframe tbody tr th {\n",
       "        vertical-align: top;\n",
       "    }\n",
       "\n",
       "    .dataframe thead th {\n",
       "        text-align: right;\n",
       "    }\n",
       "</style>\n",
       "<table border=\"1\" class=\"dataframe\">\n",
       "  <thead>\n",
       "    <tr style=\"text-align: right;\">\n",
       "      <th></th>\n",
       "      <th>Bin</th>\n",
       "      <th>Count</th>\n",
       "      <th>Count (%)</th>\n",
       "      <th>Non-event</th>\n",
       "      <th>Event</th>\n",
       "      <th>Event rate</th>\n",
       "      <th>WoE</th>\n",
       "      <th>IV</th>\n",
       "      <th>JS</th>\n",
       "    </tr>\n",
       "  </thead>\n",
       "  <tbody>\n",
       "    <tr>\n",
       "      <th>0</th>\n",
       "      <td>(-inf, 0.50)</td>\n",
       "      <td>3637</td>\n",
       "      <td>0.379724</td>\n",
       "      <td>3210</td>\n",
       "      <td>427</td>\n",
       "      <td>0.117404</td>\n",
       "      <td>0.359418</td>\n",
       "      <td>0.043298</td>\n",
       "      <td>0.005383</td>\n",
       "    </tr>\n",
       "    <tr>\n",
       "      <th>1</th>\n",
       "      <td>[0.50, 2.50)</td>\n",
       "      <td>3846</td>\n",
       "      <td>0.401545</td>\n",
       "      <td>3276</td>\n",
       "      <td>570</td>\n",
       "      <td>0.148206</td>\n",
       "      <td>0.0909179</td>\n",
       "      <td>0.003218</td>\n",
       "      <td>0.000402</td>\n",
       "    </tr>\n",
       "    <tr>\n",
       "      <th>2</th>\n",
       "      <td>[2.50, inf)</td>\n",
       "      <td>2095</td>\n",
       "      <td>0.218730</td>\n",
       "      <td>1559</td>\n",
       "      <td>536</td>\n",
       "      <td>0.255847</td>\n",
       "      <td>-0.590158</td>\n",
       "      <td>0.091980</td>\n",
       "      <td>0.011333</td>\n",
       "    </tr>\n",
       "    <tr>\n",
       "      <th>3</th>\n",
       "      <td>Special</td>\n",
       "      <td>0</td>\n",
       "      <td>0.000000</td>\n",
       "      <td>0</td>\n",
       "      <td>0</td>\n",
       "      <td>0.000000</td>\n",
       "      <td>0</td>\n",
       "      <td>0.000000</td>\n",
       "      <td>0.000000</td>\n",
       "    </tr>\n",
       "    <tr>\n",
       "      <th>4</th>\n",
       "      <td>Missing</td>\n",
       "      <td>0</td>\n",
       "      <td>0.000000</td>\n",
       "      <td>0</td>\n",
       "      <td>0</td>\n",
       "      <td>0.000000</td>\n",
       "      <td>0</td>\n",
       "      <td>0.000000</td>\n",
       "      <td>0.000000</td>\n",
       "    </tr>\n",
       "    <tr>\n",
       "      <th>Totals</th>\n",
       "      <td></td>\n",
       "      <td>9578</td>\n",
       "      <td>1.000000</td>\n",
       "      <td>8045</td>\n",
       "      <td>1533</td>\n",
       "      <td>0.160054</td>\n",
       "      <td></td>\n",
       "      <td>0.138495</td>\n",
       "      <td>0.017119</td>\n",
       "    </tr>\n",
       "  </tbody>\n",
       "</table>\n",
       "</div>"
      ],
      "text/plain": [
       "                 Bin  Count  Count (%)  Non-event  Event  Event rate  \\\n",
       "0       (-inf, 0.50)   3637   0.379724       3210    427    0.117404   \n",
       "1       [0.50, 2.50)   3846   0.401545       3276    570    0.148206   \n",
       "2        [2.50, inf)   2095   0.218730       1559    536    0.255847   \n",
       "3            Special      0   0.000000          0      0    0.000000   \n",
       "4            Missing      0   0.000000          0      0    0.000000   \n",
       "Totals                 9578   1.000000       8045   1533    0.160054   \n",
       "\n",
       "              WoE        IV        JS  \n",
       "0        0.359418  0.043298  0.005383  \n",
       "1       0.0909179  0.003218  0.000402  \n",
       "2       -0.590158  0.091980  0.011333  \n",
       "3               0  0.000000  0.000000  \n",
       "4               0  0.000000  0.000000  \n",
       "Totals             0.138495  0.017119  "
      ]
     },
     "execution_count": 50,
     "metadata": {},
     "output_type": "execute_result"
    }
   ],
   "source": [
    "\n",
    "binning_table = optb.binning_table\n",
    "binning_table.build()"
   ]
  },
  {
   "cell_type": "code",
   "execution_count": 51,
   "metadata": {},
   "outputs": [
    {
     "data": {
      "image/png": "[encoded data removed]",
      "text/plain": [
       "<Figure size 432x288 with 2 Axes>"
      ]
     },
     "metadata": {
      "needs_background": "light"
     },
     "output_type": "display_data"
    }
   ],
   "source": [
    "binning_table.plot(metric=\"event_rate\")"
   ]
  },
  {
   "cell_type": "code",
   "execution_count": 43,
   "metadata": {},
   "outputs": [
    {
     "data": {
      "text/plain": [
       "OptimalBinning(cat_cutoff=None, class_weight=None, divergence='iv',\n",
       "               dtype='numerical', gamma=0, max_bin_n_event=None,\n",
       "               max_bin_n_nonevent=None, max_bin_size=None, max_n_bins=None,\n",
       "               max_n_prebins=20, max_pvalue=None,\n",
       "               max_pvalue_policy='consecutive', min_bin_n_event=None,\n",
       "               min_bin_n_nonevent=None, min_bin_size=0.1, min_event_rate_diff=0,\n",
       "               min_n_bins=None, min_prebin_size=0.05, mip_solver='bop',\n",
       "               monotonic_trend='auto', name='purpose', outlier_detector=None,\n",
       "               outlier_params=None, prebinning_method='cart', solver='cp',\n",
       "               special_codes=None, split_digits=None, time_limit=100,\n",
       "               user_splits=None, user_splits_fixed=None, ...)"
      ]
     },
     "execution_count": 43,
     "metadata": {},
     "output_type": "execute_result"
    }
   ],
   "source": [
    "optb = OptimalBinning(name=variable, dtype=\"numerical\", solver=\"cp\", min_bin_size = 0.1)\n",
    "x = df['revol_bal'].values\n",
    "y = df['not_fully_paid'].values\n",
    "optb.fit(x, y)"
   ]
  },
  {
   "cell_type": "code",
   "execution_count": 44,
   "metadata": {},
   "outputs": [
    {
     "data": {
      "text/plain": [
       "array([ 2391.5,  7588. , 10290.5, 15613. , 22973.5])"
      ]
     },
     "execution_count": 44,
     "metadata": {},
     "output_type": "execute_result"
    }
   ],
   "source": [
    "optb.splits"
   ]
  },
  {
   "cell_type": "code",
   "execution_count": 46,
   "metadata": {},
   "outputs": [
    {
     "data": {
      "text/html": [
       "<div>\n",
       "<style scoped>\n",
       "    .dataframe tbody tr th:only-of-type {\n",
       "        vertical-align: middle;\n",
       "    }\n",
       "\n",
       "    .dataframe tbody tr th {\n",
       "        vertical-align: top;\n",
       "    }\n",
       "\n",
       "    .dataframe thead th {\n",
       "        text-align: right;\n",
       "    }\n",
       "</style>\n",
       "<table border=\"1\" class=\"dataframe\">\n",
       "  <thead>\n",
       "    <tr style=\"text-align: right;\">\n",
       "      <th></th>\n",
       "      <th>Bin</th>\n",
       "      <th>Count</th>\n",
       "      <th>Count (%)</th>\n",
       "      <th>Non-event</th>\n",
       "      <th>Event</th>\n",
       "      <th>Event rate</th>\n",
       "      <th>WoE</th>\n",
       "      <th>IV</th>\n",
       "      <th>JS</th>\n",
       "    </tr>\n",
       "  </thead>\n",
       "  <tbody>\n",
       "    <tr>\n",
       "      <th>0</th>\n",
       "      <td>(-inf, 2391.50)</td>\n",
       "      <td>1985</td>\n",
       "      <td>0.207246</td>\n",
       "      <td>1662</td>\n",
       "      <td>323</td>\n",
       "      <td>0.162720</td>\n",
       "      <td>-0.0196995</td>\n",
       "      <td>0.000081</td>\n",
       "      <td>0.000010</td>\n",
       "    </tr>\n",
       "    <tr>\n",
       "      <th>1</th>\n",
       "      <td>[2391.50, 7588.00)</td>\n",
       "      <td>2439</td>\n",
       "      <td>0.254646</td>\n",
       "      <td>2055</td>\n",
       "      <td>384</td>\n",
       "      <td>0.157442</td>\n",
       "      <td>0.0195644</td>\n",
       "      <td>0.000097</td>\n",
       "      <td>0.000012</td>\n",
       "    </tr>\n",
       "    <tr>\n",
       "      <th>2</th>\n",
       "      <td>[7588.00, 10290.50)</td>\n",
       "      <td>968</td>\n",
       "      <td>0.101065</td>\n",
       "      <td>849</td>\n",
       "      <td>119</td>\n",
       "      <td>0.122934</td>\n",
       "      <td>0.307112</td>\n",
       "      <td>0.008570</td>\n",
       "      <td>0.001067</td>\n",
       "    </tr>\n",
       "    <tr>\n",
       "      <th>3</th>\n",
       "      <td>[10290.50, 15613.00)</td>\n",
       "      <td>1321</td>\n",
       "      <td>0.137920</td>\n",
       "      <td>1123</td>\n",
       "      <td>198</td>\n",
       "      <td>0.149886</td>\n",
       "      <td>0.0776677</td>\n",
       "      <td>0.000810</td>\n",
       "      <td>0.000101</td>\n",
       "    </tr>\n",
       "    <tr>\n",
       "      <th>4</th>\n",
       "      <td>[15613.00, 22973.50)</td>\n",
       "      <td>1074</td>\n",
       "      <td>0.112132</td>\n",
       "      <td>905</td>\n",
       "      <td>169</td>\n",
       "      <td>0.157356</td>\n",
       "      <td>0.020212</td>\n",
       "      <td>0.000045</td>\n",
       "      <td>0.000006</td>\n",
       "    </tr>\n",
       "    <tr>\n",
       "      <th>5</th>\n",
       "      <td>[22973.50, inf)</td>\n",
       "      <td>1791</td>\n",
       "      <td>0.186991</td>\n",
       "      <td>1451</td>\n",
       "      <td>340</td>\n",
       "      <td>0.189838</td>\n",
       "      <td>-0.206762</td>\n",
       "      <td>0.008565</td>\n",
       "      <td>0.001069</td>\n",
       "    </tr>\n",
       "    <tr>\n",
       "      <th>6</th>\n",
       "      <td>Special</td>\n",
       "      <td>0</td>\n",
       "      <td>0.000000</td>\n",
       "      <td>0</td>\n",
       "      <td>0</td>\n",
       "      <td>0.000000</td>\n",
       "      <td>0</td>\n",
       "      <td>0.000000</td>\n",
       "      <td>0.000000</td>\n",
       "    </tr>\n",
       "    <tr>\n",
       "      <th>7</th>\n",
       "      <td>Missing</td>\n",
       "      <td>0</td>\n",
       "      <td>0.000000</td>\n",
       "      <td>0</td>\n",
       "      <td>0</td>\n",
       "      <td>0.000000</td>\n",
       "      <td>0</td>\n",
       "      <td>0.000000</td>\n",
       "      <td>0.000000</td>\n",
       "    </tr>\n",
       "    <tr>\n",
       "      <th>Totals</th>\n",
       "      <td></td>\n",
       "      <td>9578</td>\n",
       "      <td>1.000000</td>\n",
       "      <td>8045</td>\n",
       "      <td>1533</td>\n",
       "      <td>0.160054</td>\n",
       "      <td></td>\n",
       "      <td>0.018169</td>\n",
       "      <td>0.002265</td>\n",
       "    </tr>\n",
       "  </tbody>\n",
       "</table>\n",
       "</div>"
      ],
      "text/plain": [
       "                         Bin  Count  Count (%)  Non-event  Event  Event rate  \\\n",
       "0            (-inf, 2391.50)   1985   0.207246       1662    323    0.162720   \n",
       "1         [2391.50, 7588.00)   2439   0.254646       2055    384    0.157442   \n",
       "2        [7588.00, 10290.50)    968   0.101065        849    119    0.122934   \n",
       "3       [10290.50, 15613.00)   1321   0.137920       1123    198    0.149886   \n",
       "4       [15613.00, 22973.50)   1074   0.112132        905    169    0.157356   \n",
       "5            [22973.50, inf)   1791   0.186991       1451    340    0.189838   \n",
       "6                    Special      0   0.000000          0      0    0.000000   \n",
       "7                    Missing      0   0.000000          0      0    0.000000   \n",
       "Totals                         9578   1.000000       8045   1533    0.160054   \n",
       "\n",
       "              WoE        IV        JS  \n",
       "0      -0.0196995  0.000081  0.000010  \n",
       "1       0.0195644  0.000097  0.000012  \n",
       "2        0.307112  0.008570  0.001067  \n",
       "3       0.0776677  0.000810  0.000101  \n",
       "4        0.020212  0.000045  0.000006  \n",
       "5       -0.206762  0.008565  0.001069  \n",
       "6               0  0.000000  0.000000  \n",
       "7               0  0.000000  0.000000  \n",
       "Totals             0.018169  0.002265  "
      ]
     },
     "execution_count": 46,
     "metadata": {},
     "output_type": "execute_result"
    }
   ],
   "source": [
    "\n",
    "binning_table = optb.binning_table\n",
    "binning_table.build()"
   ]
  },
  {
   "cell_type": "code",
   "execution_count": 47,
   "metadata": {},
   "outputs": [
    {
     "data": {
      "image/png": "[encoded data removed]",
      "text/plain": [
       "<Figure size 432x288 with 2 Axes>"
      ]
     },
     "metadata": {
      "needs_background": "light"
     },
     "output_type": "display_data"
    }
   ],
   "source": [
    "binning_table.plot(metric=\"event_rate\")"
   ]
  },
  {
   "cell_type": "markdown",
   "metadata": {},
   "source": [
    "With this splits we could transform each bin to have a WOE relevant to the categories. We will do that for the pipeline of the process. This process showcases how to find WOE bins and check for business understanding behind the binning process we will do right away."
   ]
  }
 ],
 "metadata": {
  "kernelspec": {
   "display_name": "Python 3",
   "language": "python",
   "name": "python3"
  },
  "language_info": {
   "codemirror_mode": {
    "name": "ipython",
    "version": 3
   },
   "file_extension": ".py",
   "mimetype": "text/x-python",
   "name": "python",
   "nbconvert_exporter": "python",
   "pygments_lexer": "ipython3",
   "version": "3.8.5"
  }
 },
 "nbformat": 4,
 "nbformat_minor": 4
}
